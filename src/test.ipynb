{
 "cells": [
  {
   "cell_type": "code",
   "execution_count": null,
   "metadata": {},
   "outputs": [],
   "source": [
    "from pathlib import Path\n",
    "\n",
    "import numpy as np\n",
    "\n",
    "import data_analysis"
   ]
  },
  {
   "cell_type": "code",
   "execution_count": null,
   "metadata": {},
   "outputs": [],
   "source": [
    "data_dir = Path('../data')\n",
    "output_dir = Path('../output')\n",
    "if not output_dir.exists():\n",
    "    output_dir.mkdir()\n",
    "\n",
    "data = data_analysis.read_files(data_dir)\n",
    "\n",
    "new_npop = data_analysis.filter_by_variance_pd(data['npop'])\n",
    "\n",
    "# TODO: plot and save\n",
    "\n",
    "euc_dist = data_analysis.euclidean_distance_pd([1, 2], [3, 4], data['table'])\n"
   ]
  },
  {
   "cell_type": "code",
   "execution_count": null,
   "metadata": {},
   "outputs": [],
   "source": [
    "# do numerical analysis\n",
    "efield_filtered = data_analysis.filter_by_variance_pd(data['efield'])\n",
    "\n",
    "data_analysis.plot_df(efield_filtered, output_dir / 'efield.pdf')\n",
    "\n",
    "efield_ft = data_analysis.fourier_transform(efield_filtered).apply(np.real)\n",
    "\n",
    "data_analysis.export_df(efield_ft, output_dir / 'efield_ft.csv')\n",
    "data_analysis.plot_df(efield_ft, output_dir / 'efield_ft.pdf')\n",
    "\n",
    "nstate_filtered = data_analysis.filter_by_variance_pd(data['nstate_i'])\n",
    "nstate_autocorr = data_analysis.autocorr(nstate_filtered)\n",
    "\n",
    "data_analysis.export_df(nstate_autocorr, output_dir / 'nstate_i_autocorr.csv')\n",
    "data_analysis.plot_df(nstate_autocorr, output_dir / 'nstate_i_autocorr.pdf')\n",
    "\n",
    "nstate_autocorr_dt = data_analysis.fourier_transform(nstate_autocorr)\n",
    "nstate_power = np.abs(nstate_autocorr_dt)**2\n",
    "\n",
    "data_analysis.export_df(nstate_power, output_dir / 'nstate_i_power_spectrum.csv')\n",
    "data_analysis.plot_df(nstate_power, output_dir / 'nstate_power.pdf')"
   ]
  }
 ],
 "metadata": {
  "kernelspec": {
   "display_name": "Python 3.8.5 64-bit ('venv')",
   "metadata": {
    "interpreter": {
     "hash": "b8ba8b3ef593e2dc51afc5ca7593ebe13224360afcd333ba9f69c265bfe8221d"
    }
   },
   "name": "python3"
  },
  "language_info": {
   "codemirror_mode": {
    "name": "ipython",
    "version": 3
   },
   "file_extension": ".py",
   "mimetype": "text/x-python",
   "name": "python",
   "nbconvert_exporter": "python",
   "pygments_lexer": "ipython3",
   "version": "3.8.5-final"
  }
 },
 "nbformat": 4,
 "nbformat_minor": 2
}
